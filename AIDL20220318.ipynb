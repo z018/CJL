{
  "nbformat": 4,
  "nbformat_minor": 0,
  "metadata": {
    "colab": {
      "name": "AIDL20220318.ipynb",
      "provenance": [],
      "collapsed_sections": [],
      "authorship_tag": "ABX9TyNT0jtb78Ky9aOH4itagaQM",
      "include_colab_link": true
    },
    "kernelspec": {
      "name": "python3",
      "display_name": "Python 3"
    },
    "language_info": {
      "name": "python"
    }
  },
  "cells": [
    {
      "cell_type": "markdown",
      "metadata": {
        "id": "view-in-github",
        "colab_type": "text"
      },
      "source": [
        "<a href=\"https://colab.research.google.com/github/z018/CJL/blob/main/AIDL20220318.ipynb\" target=\"_parent\"><img src=\"https://colab.research.google.com/assets/colab-badge.svg\" alt=\"Open In Colab\"/></a>"
      ]
    },
    {
      "cell_type": "markdown",
      "source": [
        "**範例網址**\n",
        "https://github.com/PacktPublishing/Learning-Pandas-Second-Edition/blob/master/Chapter09/09_Accessing_Data.ipynb"
      ],
      "metadata": {
        "id": "sI_nMzl5tPz0"
      }
    },
    {
      "cell_type": "markdown",
      "source": [
        " **下載msft.csv**"
      ],
      "metadata": {
        "id": "Oqd-QT-rtjMl"
      }
    },
    {
      "cell_type": "code",
      "source": [
        "!wget https://raw.githubusercontent.com/PacktPublishing/Learning-Pandas-Second-Edition/master/data/msft.csv"
      ],
      "metadata": {
        "colab": {
          "base_uri": "https://localhost:8080/"
        },
        "id": "Eq-o54domUoU",
        "outputId": "cbee4389-9942-42ee-a075-68c38065e73c"
      },
      "execution_count": null,
      "outputs": [
        {
          "output_type": "stream",
          "name": "stdout",
          "text": [
            "--2022-03-18 05:57:00--  https://raw.githubusercontent.com/PacktPublishing/Learning-Pandas-Second-Edition/master/data/msft.csv\n",
            "Resolving raw.githubusercontent.com (raw.githubusercontent.com)... 185.199.108.133, 185.199.109.133, 185.199.110.133, ...\n",
            "Connecting to raw.githubusercontent.com (raw.githubusercontent.com)|185.199.108.133|:443... connected.\n",
            "HTTP request sent, awaiting response... 200 OK\n",
            "Length: 153109 (150K) [text/plain]\n",
            "Saving to: ‘msft.csv’\n",
            "\n",
            "\rmsft.csv              0%[                    ]       0  --.-KB/s               \rmsft.csv            100%[===================>] 149.52K  --.-KB/s    in 0.009s  \n",
            "\n",
            "2022-03-18 05:57:00 (16.5 MB/s) - ‘msft.csv’ saved [153109/153109]\n",
            "\n"
          ]
        }
      ]
    },
    {
      "cell_type": "code",
      "source": [
        "!ls #檢查目錄 看msft.csv是否存在"
      ],
      "metadata": {
        "colab": {
          "base_uri": "https://localhost:8080/"
        },
        "id": "XCssT23ympts",
        "outputId": "6c320341-2abf-4b06-fc94-589483d615b6"
      },
      "execution_count": null,
      "outputs": [
        {
          "output_type": "stream",
          "name": "stdout",
          "text": [
            "msft.csv  sample_data\n"
          ]
        }
      ]
    },
    {
      "cell_type": "code",
      "source": [
        "!head -n 5 msft.csv #檢查資料是否有data"
      ],
      "metadata": {
        "colab": {
          "base_uri": "https://localhost:8080/"
        },
        "id": "oZHOr7rPmvRk",
        "outputId": "a293c8f6-5be3-43b2-a368-7e4e8759aa21"
      },
      "execution_count": null,
      "outputs": [
        {
          "output_type": "stream",
          "name": "stdout",
          "text": [
            "Date,Open,High,Low,Close,Volume\n",
            "7/21/2014,83.46,83.53,81.81,81.93,2359300\n",
            "7/18/2014,83.3,83.4,82.52,83.35,4020800\n",
            "7/17/2014,84.35,84.63,83.33,83.63,1974000\n",
            "7/16/2014,83.77,84.91,83.66,84.91,1755600\n"
          ]
        }
      ]
    },
    {
      "cell_type": "code",
      "source": [
        "msft = pd.read_csv(\"./msft.csv\") # 將 msft.csv 讀入 DataFrame\n",
        "msft[:5]"
      ],
      "metadata": {
        "colab": {
          "base_uri": "https://localhost:8080/",
          "height": 211
        },
        "id": "FubD3RramxJU",
        "outputId": "1d155f13-cb50-4d12-dc7a-e79f666aae54"
      },
      "execution_count": null,
      "outputs": [
        {
          "output_type": "execute_result",
          "data": {
            "text/plain": [
              "        Date   Open   High    Low  Close   Volume\n",
              "0  7/21/2014  83.46  83.53  81.81  81.93  2359300\n",
              "1  7/18/2014  83.30  83.40  82.52  83.35  4020800\n",
              "2  7/17/2014  84.35  84.63  83.33  83.63  1974000\n",
              "3  7/16/2014  83.77  84.91  83.66  84.91  1755600\n",
              "4  7/15/2014  84.30  84.38  83.20  83.58  1874700"
            ],
            "text/html": [
              "\n",
              "  <div id=\"df-20dde028-52e2-4a6e-b1dd-851cda7a4c20\">\n",
              "    <div class=\"colab-df-container\">\n",
              "      None\n",
              "      <button class=\"colab-df-convert\" onclick=\"convertToInteractive('df-20dde028-52e2-4a6e-b1dd-851cda7a4c20')\"\n",
              "              title=\"Convert this dataframe to an interactive table.\"\n",
              "              style=\"display:none;\">\n",
              "        \n",
              "  <svg xmlns=\"http://www.w3.org/2000/svg\" height=\"24px\"viewBox=\"0 0 24 24\"\n",
              "       width=\"24px\">\n",
              "    <path d=\"M0 0h24v24H0V0z\" fill=\"none\"/>\n",
              "    <path d=\"M18.56 5.44l.94 2.06.94-2.06 2.06-.94-2.06-.94-.94-2.06-.94 2.06-2.06.94zm-11 1L8.5 8.5l.94-2.06 2.06-.94-2.06-.94L8.5 2.5l-.94 2.06-2.06.94zm10 10l.94 2.06.94-2.06 2.06-.94-2.06-.94-.94-2.06-.94 2.06-2.06.94z\"/><path d=\"M17.41 7.96l-1.37-1.37c-.4-.4-.92-.59-1.43-.59-.52 0-1.04.2-1.43.59L10.3 9.45l-7.72 7.72c-.78.78-.78 2.05 0 2.83L4 21.41c.39.39.9.59 1.41.59.51 0 1.02-.2 1.41-.59l7.78-7.78 2.81-2.81c.8-.78.8-2.07 0-2.86zM5.41 20L4 18.59l7.72-7.72 1.47 1.35L5.41 20z\"/>\n",
              "  </svg>\n",
              "      </button>\n",
              "      \n",
              "  <style>\n",
              "    .colab-df-container {\n",
              "      display:flex;\n",
              "      flex-wrap:wrap;\n",
              "      gap: 12px;\n",
              "    }\n",
              "\n",
              "    .colab-df-convert {\n",
              "      background-color: #E8F0FE;\n",
              "      border: none;\n",
              "      border-radius: 50%;\n",
              "      cursor: pointer;\n",
              "      display: none;\n",
              "      fill: #1967D2;\n",
              "      height: 32px;\n",
              "      padding: 0 0 0 0;\n",
              "      width: 32px;\n",
              "    }\n",
              "\n",
              "    .colab-df-convert:hover {\n",
              "      background-color: #E2EBFA;\n",
              "      box-shadow: 0px 1px 2px rgba(60, 64, 67, 0.3), 0px 1px 3px 1px rgba(60, 64, 67, 0.15);\n",
              "      fill: #174EA6;\n",
              "    }\n",
              "\n",
              "    [theme=dark] .colab-df-convert {\n",
              "      background-color: #3B4455;\n",
              "      fill: #D2E3FC;\n",
              "    }\n",
              "\n",
              "    [theme=dark] .colab-df-convert:hover {\n",
              "      background-color: #434B5C;\n",
              "      box-shadow: 0px 1px 3px 1px rgba(0, 0, 0, 0.15);\n",
              "      filter: drop-shadow(0px 1px 2px rgba(0, 0, 0, 0.3));\n",
              "      fill: #FFFFFF;\n",
              "    }\n",
              "  </style>\n",
              "\n",
              "      <script>\n",
              "        const buttonEl =\n",
              "          document.querySelector('#df-20dde028-52e2-4a6e-b1dd-851cda7a4c20 button.colab-df-convert');\n",
              "        buttonEl.style.display =\n",
              "          google.colab.kernel.accessAllowed ? 'block' : 'none';\n",
              "\n",
              "        async function convertToInteractive(key) {\n",
              "          const element = document.querySelector('#df-20dde028-52e2-4a6e-b1dd-851cda7a4c20');\n",
              "          const dataTable =\n",
              "            await google.colab.kernel.invokeFunction('convertToInteractive',\n",
              "                                                     [key], {});\n",
              "          if (!dataTable) return;\n",
              "\n",
              "          const docLinkHtml = 'Like what you see? Visit the ' +\n",
              "            '<a target=\"_blank\" href=https://colab.research.google.com/notebooks/data_table.ipynb>data table notebook</a>'\n",
              "            + ' to learn more about interactive tables.';\n",
              "          element.innerHTML = '';\n",
              "          dataTable['output_type'] = 'display_data';\n",
              "          await google.colab.output.renderOutput(dataTable, element);\n",
              "          const docLink = document.createElement('div');\n",
              "          docLink.innerHTML = docLinkHtml;\n",
              "          element.appendChild(docLink);\n",
              "        }\n",
              "      </script>\n",
              "    </div>\n",
              "  </div>\n",
              "  "
            ]
          },
          "metadata": {},
          "execution_count": 10
        }
      ]
    },
    {
      "cell_type": "code",
      "source": [
        "msft = pd.read_csv(\"./msft.csv\", index_col=0) #使用第0列作為索引\n",
        "msft[:5]"
      ],
      "metadata": {
        "colab": {
          "base_uri": "https://localhost:8080/",
          "height": 211
        },
        "id": "uAQJwjXhpcFP",
        "outputId": "059caa9e-29a3-40b2-be9a-5f6baa4e3564"
      },
      "execution_count": null,
      "outputs": [
        {
          "output_type": "execute_result",
          "data": {
            "text/plain": [
              "            Open   High    Low  Close   Volume\n",
              "Date                                          \n",
              "7/21/2014  83.46  83.53  81.81  81.93  2359300\n",
              "7/18/2014  83.30  83.40  82.52  83.35  4020800\n",
              "7/17/2014  84.35  84.63  83.33  83.63  1974000\n",
              "7/16/2014  83.77  84.91  83.66  84.91  1755600\n",
              "7/15/2014  84.30  84.38  83.20  83.58  1874700"
            ],
            "text/html": [
              "\n",
              "  <div id=\"df-3c40ccbb-b084-414b-961e-ec8e7ac63abb\">\n",
              "    <div class=\"colab-df-container\">\n",
              "      None\n",
              "      <button class=\"colab-df-convert\" onclick=\"convertToInteractive('df-3c40ccbb-b084-414b-961e-ec8e7ac63abb')\"\n",
              "              title=\"Convert this dataframe to an interactive table.\"\n",
              "              style=\"display:none;\">\n",
              "        \n",
              "  <svg xmlns=\"http://www.w3.org/2000/svg\" height=\"24px\"viewBox=\"0 0 24 24\"\n",
              "       width=\"24px\">\n",
              "    <path d=\"M0 0h24v24H0V0z\" fill=\"none\"/>\n",
              "    <path d=\"M18.56 5.44l.94 2.06.94-2.06 2.06-.94-2.06-.94-.94-2.06-.94 2.06-2.06.94zm-11 1L8.5 8.5l.94-2.06 2.06-.94-2.06-.94L8.5 2.5l-.94 2.06-2.06.94zm10 10l.94 2.06.94-2.06 2.06-.94-2.06-.94-.94-2.06-.94 2.06-2.06.94z\"/><path d=\"M17.41 7.96l-1.37-1.37c-.4-.4-.92-.59-1.43-.59-.52 0-1.04.2-1.43.59L10.3 9.45l-7.72 7.72c-.78.78-.78 2.05 0 2.83L4 21.41c.39.39.9.59 1.41.59.51 0 1.02-.2 1.41-.59l7.78-7.78 2.81-2.81c.8-.78.8-2.07 0-2.86zM5.41 20L4 18.59l7.72-7.72 1.47 1.35L5.41 20z\"/>\n",
              "  </svg>\n",
              "      </button>\n",
              "      \n",
              "  <style>\n",
              "    .colab-df-container {\n",
              "      display:flex;\n",
              "      flex-wrap:wrap;\n",
              "      gap: 12px;\n",
              "    }\n",
              "\n",
              "    .colab-df-convert {\n",
              "      background-color: #E8F0FE;\n",
              "      border: none;\n",
              "      border-radius: 50%;\n",
              "      cursor: pointer;\n",
              "      display: none;\n",
              "      fill: #1967D2;\n",
              "      height: 32px;\n",
              "      padding: 0 0 0 0;\n",
              "      width: 32px;\n",
              "    }\n",
              "\n",
              "    .colab-df-convert:hover {\n",
              "      background-color: #E2EBFA;\n",
              "      box-shadow: 0px 1px 2px rgba(60, 64, 67, 0.3), 0px 1px 3px 1px rgba(60, 64, 67, 0.15);\n",
              "      fill: #174EA6;\n",
              "    }\n",
              "\n",
              "    [theme=dark] .colab-df-convert {\n",
              "      background-color: #3B4455;\n",
              "      fill: #D2E3FC;\n",
              "    }\n",
              "\n",
              "    [theme=dark] .colab-df-convert:hover {\n",
              "      background-color: #434B5C;\n",
              "      box-shadow: 0px 1px 3px 1px rgba(0, 0, 0, 0.15);\n",
              "      filter: drop-shadow(0px 1px 2px rgba(0, 0, 0, 0.3));\n",
              "      fill: #FFFFFF;\n",
              "    }\n",
              "  </style>\n",
              "\n",
              "      <script>\n",
              "        const buttonEl =\n",
              "          document.querySelector('#df-3c40ccbb-b084-414b-961e-ec8e7ac63abb button.colab-df-convert');\n",
              "        buttonEl.style.display =\n",
              "          google.colab.kernel.accessAllowed ? 'block' : 'none';\n",
              "\n",
              "        async function convertToInteractive(key) {\n",
              "          const element = document.querySelector('#df-3c40ccbb-b084-414b-961e-ec8e7ac63abb');\n",
              "          const dataTable =\n",
              "            await google.colab.kernel.invokeFunction('convertToInteractive',\n",
              "                                                     [key], {});\n",
              "          if (!dataTable) return;\n",
              "\n",
              "          const docLinkHtml = 'Like what you see? Visit the ' +\n",
              "            '<a target=\"_blank\" href=https://colab.research.google.com/notebooks/data_table.ipynb>data table notebook</a>'\n",
              "            + ' to learn more about interactive tables.';\n",
              "          element.innerHTML = '';\n",
              "          dataTable['output_type'] = 'display_data';\n",
              "          await google.colab.output.renderOutput(dataTable, element);\n",
              "          const docLink = document.createElement('div');\n",
              "          docLink.innerHTML = docLinkHtml;\n",
              "          element.appendChild(docLink);\n",
              "        }\n",
              "      </script>\n",
              "    </div>\n",
              "  </div>\n",
              "  "
            ]
          },
          "metadata": {},
          "execution_count": 26
        }
      ]
    },
    {
      "cell_type": "code",
      "source": [
        "df2 = pd.read_csv(\"./msft.csv\",           \n",
        "           usecols=['Date', 'Close'],   #在 Date 與 Close 列中讀取數據\n",
        "           index_col=['Date'])       #按日期列做出索引\n",
        "df2[:5]"
      ],
      "metadata": {
        "colab": {
          "base_uri": "https://localhost:8080/",
          "height": 211
        },
        "id": "t0of2X13vZHs",
        "outputId": "c28f8fda-8da2-46d9-b05c-e76fc69a8d9f"
      },
      "execution_count": null,
      "outputs": [
        {
          "output_type": "execute_result",
          "data": {
            "text/plain": [
              "           Close\n",
              "Date            \n",
              "7/21/2014  81.93\n",
              "7/18/2014  83.35\n",
              "7/17/2014  83.63\n",
              "7/16/2014  84.91\n",
              "7/15/2014  83.58"
            ],
            "text/html": [
              "\n",
              "  <div id=\"df-d817bbf8-1f18-42af-925c-07a47a12c975\">\n",
              "    <div class=\"colab-df-container\">\n",
              "      None\n",
              "      <button class=\"colab-df-convert\" onclick=\"convertToInteractive('df-d817bbf8-1f18-42af-925c-07a47a12c975')\"\n",
              "              title=\"Convert this dataframe to an interactive table.\"\n",
              "              style=\"display:none;\">\n",
              "        \n",
              "  <svg xmlns=\"http://www.w3.org/2000/svg\" height=\"24px\"viewBox=\"0 0 24 24\"\n",
              "       width=\"24px\">\n",
              "    <path d=\"M0 0h24v24H0V0z\" fill=\"none\"/>\n",
              "    <path d=\"M18.56 5.44l.94 2.06.94-2.06 2.06-.94-2.06-.94-.94-2.06-.94 2.06-2.06.94zm-11 1L8.5 8.5l.94-2.06 2.06-.94-2.06-.94L8.5 2.5l-.94 2.06-2.06.94zm10 10l.94 2.06.94-2.06 2.06-.94-2.06-.94-.94-2.06-.94 2.06-2.06.94z\"/><path d=\"M17.41 7.96l-1.37-1.37c-.4-.4-.92-.59-1.43-.59-.52 0-1.04.2-1.43.59L10.3 9.45l-7.72 7.72c-.78.78-.78 2.05 0 2.83L4 21.41c.39.39.9.59 1.41.59.51 0 1.02-.2 1.41-.59l7.78-7.78 2.81-2.81c.8-.78.8-2.07 0-2.86zM5.41 20L4 18.59l7.72-7.72 1.47 1.35L5.41 20z\"/>\n",
              "  </svg>\n",
              "      </button>\n",
              "      \n",
              "  <style>\n",
              "    .colab-df-container {\n",
              "      display:flex;\n",
              "      flex-wrap:wrap;\n",
              "      gap: 12px;\n",
              "    }\n",
              "\n",
              "    .colab-df-convert {\n",
              "      background-color: #E8F0FE;\n",
              "      border: none;\n",
              "      border-radius: 50%;\n",
              "      cursor: pointer;\n",
              "      display: none;\n",
              "      fill: #1967D2;\n",
              "      height: 32px;\n",
              "      padding: 0 0 0 0;\n",
              "      width: 32px;\n",
              "    }\n",
              "\n",
              "    .colab-df-convert:hover {\n",
              "      background-color: #E2EBFA;\n",
              "      box-shadow: 0px 1px 2px rgba(60, 64, 67, 0.3), 0px 1px 3px 1px rgba(60, 64, 67, 0.15);\n",
              "      fill: #174EA6;\n",
              "    }\n",
              "\n",
              "    [theme=dark] .colab-df-convert {\n",
              "      background-color: #3B4455;\n",
              "      fill: #D2E3FC;\n",
              "    }\n",
              "\n",
              "    [theme=dark] .colab-df-convert:hover {\n",
              "      background-color: #434B5C;\n",
              "      box-shadow: 0px 1px 3px 1px rgba(0, 0, 0, 0.15);\n",
              "      filter: drop-shadow(0px 1px 2px rgba(0, 0, 0, 0.3));\n",
              "      fill: #FFFFFF;\n",
              "    }\n",
              "  </style>\n",
              "\n",
              "      <script>\n",
              "        const buttonEl =\n",
              "          document.querySelector('#df-d817bbf8-1f18-42af-925c-07a47a12c975 button.colab-df-convert');\n",
              "        buttonEl.style.display =\n",
              "          google.colab.kernel.accessAllowed ? 'block' : 'none';\n",
              "\n",
              "        async function convertToInteractive(key) {\n",
              "          const element = document.querySelector('#df-d817bbf8-1f18-42af-925c-07a47a12c975');\n",
              "          const dataTable =\n",
              "            await google.colab.kernel.invokeFunction('convertToInteractive',\n",
              "                                                     [key], {});\n",
              "          if (!dataTable) return;\n",
              "\n",
              "          const docLinkHtml = 'Like what you see? Visit the ' +\n",
              "            '<a target=\"_blank\" href=https://colab.research.google.com/notebooks/data_table.ipynb>data table notebook</a>'\n",
              "            + ' to learn more about interactive tables.';\n",
              "          element.innerHTML = '';\n",
              "          dataTable['output_type'] = 'display_data';\n",
              "          await google.colab.output.renderOutput(dataTable, element);\n",
              "          const docLink = document.createElement('div');\n",
              "          docLink.innerHTML = docLinkHtml;\n",
              "          element.appendChild(docLink);\n",
              "        }\n",
              "      </script>\n",
              "    </div>\n",
              "  </div>\n",
              "  "
            ]
          },
          "metadata": {},
          "execution_count": 27
        }
      ]
    },
    {
      "cell_type": "code",
      "source": [
        "df2.to_csv(\"./msft_A999168.csv\", index_label='date') #將 df2 保存到新的 csv 文件，並指定命名索引為日期"
      ],
      "metadata": {
        "id": "JTneDz2iv4lt"
      },
      "execution_count": null,
      "outputs": []
    },
    {
      "cell_type": "code",
      "source": [
        "!head -n 5 ./msft_A999168.csv #查看剛剛保存的文件的開頭"
      ],
      "metadata": {
        "colab": {
          "base_uri": "https://localhost:8080/"
        },
        "id": "v9qIksEEwMwq",
        "outputId": "84ebd3ac-847e-41ed-87e7-02fa9308e020"
      },
      "execution_count": null,
      "outputs": [
        {
          "output_type": "stream",
          "name": "stdout",
          "text": [
            "date,Close\n",
            "7/21/2014,81.93\n",
            "7/18/2014,83.35\n",
            "7/17/2014,83.63\n",
            "7/16/2014,84.91\n"
          ]
        }
      ]
    },
    {
      "cell_type": "markdown",
      "source": [
        "** **下載msft2.csv****"
      ],
      "metadata": {
        "id": "LWgz4c6-xCiK"
      }
    },
    {
      "cell_type": "code",
      "source": [
        "!wget https://raw.githubusercontent.com/PacktPublishing/Learning-Pandas-Second-Edition/master/data/msft2.csv"
      ],
      "metadata": {
        "colab": {
          "base_uri": "https://localhost:8080/"
        },
        "id": "kXwgKtb1snON",
        "outputId": "cd2ca463-1912-4d5f-960c-0780e436091c"
      },
      "execution_count": null,
      "outputs": [
        {
          "output_type": "stream",
          "name": "stdout",
          "text": [
            "--2022-03-18 06:23:40--  https://raw.githubusercontent.com/PacktPublishing/Learning-Pandas-Second-Edition/master/data/msft2.csv\n",
            "Resolving raw.githubusercontent.com (raw.githubusercontent.com)... 185.199.108.133, 185.199.109.133, 185.199.110.133, ...\n",
            "Connecting to raw.githubusercontent.com (raw.githubusercontent.com)|185.199.108.133|:443... connected.\n",
            "HTTP request sent, awaiting response... 200 OK\n",
            "Length: 531 [text/plain]\n",
            "Saving to: ‘msft2.csv’\n",
            "\n",
            "\rmsft2.csv             0%[                    ]       0  --.-KB/s               \rmsft2.csv           100%[===================>]     531  --.-KB/s    in 0s      \n",
            "\n",
            "2022-03-18 06:23:40 (25.7 MB/s) - ‘msft2.csv’ saved [531/531]\n",
            "\n"
          ]
        }
      ]
    },
    {
      "cell_type": "code",
      "source": [
        "!ls #檢查目錄"
      ],
      "metadata": {
        "colab": {
          "base_uri": "https://localhost:8080/"
        },
        "id": "5UruzrzLsvd1",
        "outputId": "6e5203e5-2c6f-462d-901f-f12853f26c24"
      },
      "execution_count": null,
      "outputs": [
        {
          "output_type": "stream",
          "name": "stdout",
          "text": [
            "msft2.csv  msft.csv  sample_data\n"
          ]
        }
      ]
    },
    {
      "cell_type": "code",
      "source": [
        "df = pd.read_csv(\"./msft2.csv\", skiprows=[0, 2, 3]) #讀取msft2.csv，但跳過第0、2、3行\n",
        "df[:5]"
      ],
      "metadata": {
        "colab": {
          "base_uri": "https://localhost:8080/",
          "height": 211
        },
        "id": "MumnRIHys1ha",
        "outputId": "82bfb776-ecda-48b8-95aa-a7ea640204b5"
      },
      "execution_count": null,
      "outputs": [
        {
          "output_type": "execute_result",
          "data": {
            "text/plain": [
              "        Date   Open   High    Low  Close   Volume\n",
              "0  7/21/2014  83.46  83.53  81.81  81.93  2359300\n",
              "1  7/18/2014  83.30  83.40  82.52  83.35  4020800\n",
              "2  7/17/2014  84.35  84.63  83.33  83.63  1974000\n",
              "3  7/16/2014  83.77  84.91  83.66  84.91  1755600\n",
              "4  7/15/2014  84.30  84.38  83.20  83.58  1874700"
            ],
            "text/html": [
              "\n",
              "  <div id=\"df-056cc407-500e-473a-a9a2-dd5e89d41af0\">\n",
              "    <div class=\"colab-df-container\">\n",
              "      None\n",
              "      <button class=\"colab-df-convert\" onclick=\"convertToInteractive('df-056cc407-500e-473a-a9a2-dd5e89d41af0')\"\n",
              "              title=\"Convert this dataframe to an interactive table.\"\n",
              "              style=\"display:none;\">\n",
              "        \n",
              "  <svg xmlns=\"http://www.w3.org/2000/svg\" height=\"24px\"viewBox=\"0 0 24 24\"\n",
              "       width=\"24px\">\n",
              "    <path d=\"M0 0h24v24H0V0z\" fill=\"none\"/>\n",
              "    <path d=\"M18.56 5.44l.94 2.06.94-2.06 2.06-.94-2.06-.94-.94-2.06-.94 2.06-2.06.94zm-11 1L8.5 8.5l.94-2.06 2.06-.94-2.06-.94L8.5 2.5l-.94 2.06-2.06.94zm10 10l.94 2.06.94-2.06 2.06-.94-2.06-.94-.94-2.06-.94 2.06-2.06.94z\"/><path d=\"M17.41 7.96l-1.37-1.37c-.4-.4-.92-.59-1.43-.59-.52 0-1.04.2-1.43.59L10.3 9.45l-7.72 7.72c-.78.78-.78 2.05 0 2.83L4 21.41c.39.39.9.59 1.41.59.51 0 1.02-.2 1.41-.59l7.78-7.78 2.81-2.81c.8-.78.8-2.07 0-2.86zM5.41 20L4 18.59l7.72-7.72 1.47 1.35L5.41 20z\"/>\n",
              "  </svg>\n",
              "      </button>\n",
              "      \n",
              "  <style>\n",
              "    .colab-df-container {\n",
              "      display:flex;\n",
              "      flex-wrap:wrap;\n",
              "      gap: 12px;\n",
              "    }\n",
              "\n",
              "    .colab-df-convert {\n",
              "      background-color: #E8F0FE;\n",
              "      border: none;\n",
              "      border-radius: 50%;\n",
              "      cursor: pointer;\n",
              "      display: none;\n",
              "      fill: #1967D2;\n",
              "      height: 32px;\n",
              "      padding: 0 0 0 0;\n",
              "      width: 32px;\n",
              "    }\n",
              "\n",
              "    .colab-df-convert:hover {\n",
              "      background-color: #E2EBFA;\n",
              "      box-shadow: 0px 1px 2px rgba(60, 64, 67, 0.3), 0px 1px 3px 1px rgba(60, 64, 67, 0.15);\n",
              "      fill: #174EA6;\n",
              "    }\n",
              "\n",
              "    [theme=dark] .colab-df-convert {\n",
              "      background-color: #3B4455;\n",
              "      fill: #D2E3FC;\n",
              "    }\n",
              "\n",
              "    [theme=dark] .colab-df-convert:hover {\n",
              "      background-color: #434B5C;\n",
              "      box-shadow: 0px 1px 3px 1px rgba(0, 0, 0, 0.15);\n",
              "      filter: drop-shadow(0px 1px 2px rgba(0, 0, 0, 0.3));\n",
              "      fill: #FFFFFF;\n",
              "    }\n",
              "  </style>\n",
              "\n",
              "      <script>\n",
              "        const buttonEl =\n",
              "          document.querySelector('#df-056cc407-500e-473a-a9a2-dd5e89d41af0 button.colab-df-convert');\n",
              "        buttonEl.style.display =\n",
              "          google.colab.kernel.accessAllowed ? 'block' : 'none';\n",
              "\n",
              "        async function convertToInteractive(key) {\n",
              "          const element = document.querySelector('#df-056cc407-500e-473a-a9a2-dd5e89d41af0');\n",
              "          const dataTable =\n",
              "            await google.colab.kernel.invokeFunction('convertToInteractive',\n",
              "                                                     [key], {});\n",
              "          if (!dataTable) return;\n",
              "\n",
              "          const docLinkHtml = 'Like what you see? Visit the ' +\n",
              "            '<a target=\"_blank\" href=https://colab.research.google.com/notebooks/data_table.ipynb>data table notebook</a>'\n",
              "            + ' to learn more about interactive tables.';\n",
              "          element.innerHTML = '';\n",
              "          dataTable['output_type'] = 'display_data';\n",
              "          await google.colab.output.renderOutput(dataTable, element);\n",
              "          const docLink = document.createElement('div');\n",
              "          docLink.innerHTML = docLinkHtml;\n",
              "          element.appendChild(docLink);\n",
              "        }\n",
              "      </script>\n",
              "    </div>\n",
              "  </div>\n",
              "  "
            ]
          },
          "metadata": {},
          "execution_count": 23
        }
      ]
    },
    {
      "cell_type": "markdown",
      "source": [
        "**下載msft_with_footer.csv**"
      ],
      "metadata": {
        "id": "pm61HJZpxc8e"
      }
    },
    {
      "cell_type": "code",
      "source": [
        "!wget https://raw.githubusercontent.com/PacktPublishing/Learning-Pandas-Second-Edition/master/data/msft_with_footer.csv"
      ],
      "metadata": {
        "colab": {
          "base_uri": "https://localhost:8080/"
        },
        "id": "bOd6VaNztDSb",
        "outputId": "32d13b8a-e322-4836-d375-0c95ea5ca9d1"
      },
      "execution_count": null,
      "outputs": [
        {
          "output_type": "stream",
          "name": "stdout",
          "text": [
            "--2022-03-18 06:25:39--  https://raw.githubusercontent.com/PacktPublishing/Learning-Pandas-Second-Edition/master/data/msft_with_footer.csv\n",
            "Resolving raw.githubusercontent.com (raw.githubusercontent.com)... 185.199.108.133, 185.199.109.133, 185.199.110.133, ...\n",
            "Connecting to raw.githubusercontent.com (raw.githubusercontent.com)|185.199.108.133|:443... connected.\n",
            "HTTP request sent, awaiting response... 200 OK\n",
            "Length: 149 [text/plain]\n",
            "Saving to: ‘msft_with_footer.csv’\n",
            "\n",
            "\rmsft_with_footer.cs   0%[                    ]       0  --.-KB/s               \rmsft_with_footer.cs 100%[===================>]     149  --.-KB/s    in 0s      \n",
            "\n",
            "2022-03-18 06:25:39 (8.88 MB/s) - ‘msft_with_footer.csv’ saved [149/149]\n",
            "\n"
          ]
        }
      ]
    },
    {
      "cell_type": "code",
      "source": [
        "!cat ./msft_with_footer.csv # 用cat查看數據"
      ],
      "metadata": {
        "colab": {
          "base_uri": "https://localhost:8080/"
        },
        "id": "XrQlN-3gtIhL",
        "outputId": "c0c5dd57-c74c-4eb2-951a-66cd19cf39d4"
      },
      "execution_count": null,
      "outputs": [
        {
          "output_type": "stream",
          "name": "stdout",
          "text": [
            "Date,Open,High,Low,Close,Volume\n",
            "7/21/2014,83.46,83.53,81.81,81.93,2359300\n",
            "7/18/2014,83.3,83.4,82.52,83.35,4020800\n",
            "\n",
            "Uh oh, there is stuff at the end.\n"
          ]
        }
      ]
    },
    {
      "cell_type": "markdown",
      "source": [
        "**讀寫excel檔案**"
      ],
      "metadata": {
        "id": "gGgZKsUryDUr"
      }
    },
    {
      "cell_type": "markdown",
      "source": [
        "**先在下方圈起來的地方，上傳excel**"
      ],
      "metadata": {
        "id": "sJQEZlL100OT"
      }
    },
    {
      "cell_type": "markdown",
      "source": [
        "![image.png](data:image/png;base64,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)"
      ],
      "metadata": {
        "id": "4okPkkV00t4k"
      }
    },
    {
      "cell_type": "code",
      "source": [
        "!ls #檢查"
      ],
      "metadata": {
        "colab": {
          "base_uri": "https://localhost:8080/"
        },
        "id": "X0x0scouzaES",
        "outputId": "09200a78-dd6c-4e10-a773-0781a2f34c2f"
      },
      "execution_count": null,
      "outputs": [
        {
          "output_type": "stream",
          "name": "stdout",
          "text": [
            "msft2.csv\t  msft.csv\t\tsample_data  stocks.xlsx\n",
            "msft_A999168.csv  msft_with_footer.csv\tstocks2.xls\n"
          ]
        }
      ]
    },
    {
      "cell_type": "code",
      "source": [
        "df = pd.read_excel(\"./stocks.xlsx\") #讀取excel前五筆資料\n",
        "df[:5]"
      ],
      "metadata": {
        "colab": {
          "base_uri": "https://localhost:8080/",
          "height": 211
        },
        "id": "nfdiC1aC0eba",
        "outputId": "50ec8cdc-e40b-40c0-ee33-78757c056bd3"
      },
      "execution_count": null,
      "outputs": [
        {
          "output_type": "execute_result",
          "data": {
            "text/plain": [
              "        Date   Open   High    Low  Close   Volume\n",
              "0 2014-07-21  83.46  83.53  81.81  81.93  2359300\n",
              "1 2014-07-18  83.30  83.40  82.52  83.35  4020800\n",
              "2 2014-07-17  84.35  84.63  83.33  83.63  1974000\n",
              "3 2014-07-16  83.77  84.91  83.66  84.91  1755600\n",
              "4 2014-07-15  84.30  84.38  83.20  83.58  1874700"
            ],
            "text/html": [
              "\n",
              "  <div id=\"df-c8c5453a-31f6-4add-b68c-154b800f02ad\">\n",
              "    <div class=\"colab-df-container\">\n",
              "      None\n",
              "      <button class=\"colab-df-convert\" onclick=\"convertToInteractive('df-c8c5453a-31f6-4add-b68c-154b800f02ad')\"\n",
              "              title=\"Convert this dataframe to an interactive table.\"\n",
              "              style=\"display:none;\">\n",
              "        \n",
              "  <svg xmlns=\"http://www.w3.org/2000/svg\" height=\"24px\"viewBox=\"0 0 24 24\"\n",
              "       width=\"24px\">\n",
              "    <path d=\"M0 0h24v24H0V0z\" fill=\"none\"/>\n",
              "    <path d=\"M18.56 5.44l.94 2.06.94-2.06 2.06-.94-2.06-.94-.94-2.06-.94 2.06-2.06.94zm-11 1L8.5 8.5l.94-2.06 2.06-.94-2.06-.94L8.5 2.5l-.94 2.06-2.06.94zm10 10l.94 2.06.94-2.06 2.06-.94-2.06-.94-.94-2.06-.94 2.06-2.06.94z\"/><path d=\"M17.41 7.96l-1.37-1.37c-.4-.4-.92-.59-1.43-.59-.52 0-1.04.2-1.43.59L10.3 9.45l-7.72 7.72c-.78.78-.78 2.05 0 2.83L4 21.41c.39.39.9.59 1.41.59.51 0 1.02-.2 1.41-.59l7.78-7.78 2.81-2.81c.8-.78.8-2.07 0-2.86zM5.41 20L4 18.59l7.72-7.72 1.47 1.35L5.41 20z\"/>\n",
              "  </svg>\n",
              "      </button>\n",
              "      \n",
              "  <style>\n",
              "    .colab-df-container {\n",
              "      display:flex;\n",
              "      flex-wrap:wrap;\n",
              "      gap: 12px;\n",
              "    }\n",
              "\n",
              "    .colab-df-convert {\n",
              "      background-color: #E8F0FE;\n",
              "      border: none;\n",
              "      border-radius: 50%;\n",
              "      cursor: pointer;\n",
              "      display: none;\n",
              "      fill: #1967D2;\n",
              "      height: 32px;\n",
              "      padding: 0 0 0 0;\n",
              "      width: 32px;\n",
              "    }\n",
              "\n",
              "    .colab-df-convert:hover {\n",
              "      background-color: #E2EBFA;\n",
              "      box-shadow: 0px 1px 2px rgba(60, 64, 67, 0.3), 0px 1px 3px 1px rgba(60, 64, 67, 0.15);\n",
              "      fill: #174EA6;\n",
              "    }\n",
              "\n",
              "    [theme=dark] .colab-df-convert {\n",
              "      background-color: #3B4455;\n",
              "      fill: #D2E3FC;\n",
              "    }\n",
              "\n",
              "    [theme=dark] .colab-df-convert:hover {\n",
              "      background-color: #434B5C;\n",
              "      box-shadow: 0px 1px 3px 1px rgba(0, 0, 0, 0.15);\n",
              "      filter: drop-shadow(0px 1px 2px rgba(0, 0, 0, 0.3));\n",
              "      fill: #FFFFFF;\n",
              "    }\n",
              "  </style>\n",
              "\n",
              "      <script>\n",
              "        const buttonEl =\n",
              "          document.querySelector('#df-c8c5453a-31f6-4add-b68c-154b800f02ad button.colab-df-convert');\n",
              "        buttonEl.style.display =\n",
              "          google.colab.kernel.accessAllowed ? 'block' : 'none';\n",
              "\n",
              "        async function convertToInteractive(key) {\n",
              "          const element = document.querySelector('#df-c8c5453a-31f6-4add-b68c-154b800f02ad');\n",
              "          const dataTable =\n",
              "            await google.colab.kernel.invokeFunction('convertToInteractive',\n",
              "                                                     [key], {});\n",
              "          if (!dataTable) return;\n",
              "\n",
              "          const docLinkHtml = 'Like what you see? Visit the ' +\n",
              "            '<a target=\"_blank\" href=https://colab.research.google.com/notebooks/data_table.ipynb>data table notebook</a>'\n",
              "            + ' to learn more about interactive tables.';\n",
              "          element.innerHTML = '';\n",
              "          dataTable['output_type'] = 'display_data';\n",
              "          await google.colab.output.renderOutput(dataTable, element);\n",
              "          const docLink = document.createElement('div');\n",
              "          docLink.innerHTML = docLinkHtml;\n",
              "          element.appendChild(docLink);\n",
              "        }\n",
              "      </script>\n",
              "    </div>\n",
              "  </div>\n",
              "  "
            ]
          },
          "metadata": {},
          "execution_count": 43
        }
      ]
    },
    {
      "cell_type": "code",
      "source": [
        "aapl = pd.read_excel(\"./stocks.xlsx\", sheet_name='aapl') #從 aapl 工作表中讀取前五筆資料\n",
        "aapl[:5]"
      ],
      "metadata": {
        "colab": {
          "base_uri": "https://localhost:8080/",
          "height": 211
        },
        "id": "ztY9jMpk2JFz",
        "outputId": "d771ea55-92fc-4f0a-8a53-2fe9ad9e71b8"
      },
      "execution_count": null,
      "outputs": [
        {
          "output_type": "execute_result",
          "data": {
            "text/plain": [
              "        Date   Open   High    Low  Close    Volume\n",
              "0 2014-07-21  94.99  95.00  93.72  93.94  38887700\n",
              "1 2014-07-18  93.62  94.74  93.02  94.43  49898600\n",
              "2 2014-07-17  95.03  95.28  92.57  93.09  57152000\n",
              "3 2014-07-16  96.97  97.10  94.74  94.78  53396300\n",
              "4 2014-07-15  96.80  96.85  95.03  95.32  45477900"
            ],
            "text/html": [
              "\n",
              "  <div id=\"df-2bdb444c-a172-46c4-8571-849a2ff4654f\">\n",
              "    <div class=\"colab-df-container\">\n",
              "      None\n",
              "      <button class=\"colab-df-convert\" onclick=\"convertToInteractive('df-2bdb444c-a172-46c4-8571-849a2ff4654f')\"\n",
              "              title=\"Convert this dataframe to an interactive table.\"\n",
              "              style=\"display:none;\">\n",
              "        \n",
              "  <svg xmlns=\"http://www.w3.org/2000/svg\" height=\"24px\"viewBox=\"0 0 24 24\"\n",
              "       width=\"24px\">\n",
              "    <path d=\"M0 0h24v24H0V0z\" fill=\"none\"/>\n",
              "    <path d=\"M18.56 5.44l.94 2.06.94-2.06 2.06-.94-2.06-.94-.94-2.06-.94 2.06-2.06.94zm-11 1L8.5 8.5l.94-2.06 2.06-.94-2.06-.94L8.5 2.5l-.94 2.06-2.06.94zm10 10l.94 2.06.94-2.06 2.06-.94-2.06-.94-.94-2.06-.94 2.06-2.06.94z\"/><path d=\"M17.41 7.96l-1.37-1.37c-.4-.4-.92-.59-1.43-.59-.52 0-1.04.2-1.43.59L10.3 9.45l-7.72 7.72c-.78.78-.78 2.05 0 2.83L4 21.41c.39.39.9.59 1.41.59.51 0 1.02-.2 1.41-.59l7.78-7.78 2.81-2.81c.8-.78.8-2.07 0-2.86zM5.41 20L4 18.59l7.72-7.72 1.47 1.35L5.41 20z\"/>\n",
              "  </svg>\n",
              "      </button>\n",
              "      \n",
              "  <style>\n",
              "    .colab-df-container {\n",
              "      display:flex;\n",
              "      flex-wrap:wrap;\n",
              "      gap: 12px;\n",
              "    }\n",
              "\n",
              "    .colab-df-convert {\n",
              "      background-color: #E8F0FE;\n",
              "      border: none;\n",
              "      border-radius: 50%;\n",
              "      cursor: pointer;\n",
              "      display: none;\n",
              "      fill: #1967D2;\n",
              "      height: 32px;\n",
              "      padding: 0 0 0 0;\n",
              "      width: 32px;\n",
              "    }\n",
              "\n",
              "    .colab-df-convert:hover {\n",
              "      background-color: #E2EBFA;\n",
              "      box-shadow: 0px 1px 2px rgba(60, 64, 67, 0.3), 0px 1px 3px 1px rgba(60, 64, 67, 0.15);\n",
              "      fill: #174EA6;\n",
              "    }\n",
              "\n",
              "    [theme=dark] .colab-df-convert {\n",
              "      background-color: #3B4455;\n",
              "      fill: #D2E3FC;\n",
              "    }\n",
              "\n",
              "    [theme=dark] .colab-df-convert:hover {\n",
              "      background-color: #434B5C;\n",
              "      box-shadow: 0px 1px 3px 1px rgba(0, 0, 0, 0.15);\n",
              "      filter: drop-shadow(0px 1px 2px rgba(0, 0, 0, 0.3));\n",
              "      fill: #FFFFFF;\n",
              "    }\n",
              "  </style>\n",
              "\n",
              "      <script>\n",
              "        const buttonEl =\n",
              "          document.querySelector('#df-2bdb444c-a172-46c4-8571-849a2ff4654f button.colab-df-convert');\n",
              "        buttonEl.style.display =\n",
              "          google.colab.kernel.accessAllowed ? 'block' : 'none';\n",
              "\n",
              "        async function convertToInteractive(key) {\n",
              "          const element = document.querySelector('#df-2bdb444c-a172-46c4-8571-849a2ff4654f');\n",
              "          const dataTable =\n",
              "            await google.colab.kernel.invokeFunction('convertToInteractive',\n",
              "                                                     [key], {});\n",
              "          if (!dataTable) return;\n",
              "\n",
              "          const docLinkHtml = 'Like what you see? Visit the ' +\n",
              "            '<a target=\"_blank\" href=https://colab.research.google.com/notebooks/data_table.ipynb>data table notebook</a>'\n",
              "            + ' to learn more about interactive tables.';\n",
              "          element.innerHTML = '';\n",
              "          dataTable['output_type'] = 'display_data';\n",
              "          await google.colab.output.renderOutput(dataTable, element);\n",
              "          const docLink = document.createElement('div');\n",
              "          docLink.innerHTML = docLinkHtml;\n",
              "          element.appendChild(docLink);\n",
              "        }\n",
              "      </script>\n",
              "    </div>\n",
              "  </div>\n",
              "  "
            ]
          },
          "metadata": {},
          "execution_count": 48
        }
      ]
    },
    {
      "cell_type": "code",
      "source": [
        "df.to_excel(\"./stocks2.xls\") # 保存到工作表 .XLS 文件"
      ],
      "metadata": {
        "colab": {
          "base_uri": "https://localhost:8080/"
        },
        "id": "3k5Vccwb3Hs7",
        "outputId": "072d569a-16ba-472a-d357-c8fb4d593fd5"
      },
      "execution_count": null,
      "outputs": [
        {
          "output_type": "stream",
          "name": "stderr",
          "text": [
            "/usr/local/lib/python3.7/dist-packages/ipykernel_launcher.py:1: FutureWarning: As the xlwt package is no longer maintained, the xlwt engine will be removed in a future version of pandas. This is the only engine in pandas that supports writing in the xls format. Install openpyxl and write to an xlsx file instead. You can set the option io.excel.xls.writer to 'xlwt' to silence this warning. While this option is deprecated and will also raise a warning, it can be globally set and the warning suppressed.\n",
            "  \"\"\"Entry point for launching an IPython kernel.\n"
          ]
        }
      ]
    },
    {
      "cell_type": "code",
      "source": [
        "df.to_excel(\"./stocks_msft.xls\", sheet_name='MSFT') #將工作表命名為 MSFT"
      ],
      "metadata": {
        "colab": {
          "base_uri": "https://localhost:8080/"
        },
        "id": "t66Pq02e3MYr",
        "outputId": "3d6290be-6e1d-4534-ebd5-afc660d148bc"
      },
      "execution_count": null,
      "outputs": [
        {
          "output_type": "stream",
          "name": "stderr",
          "text": [
            "/usr/local/lib/python3.7/dist-packages/ipykernel_launcher.py:1: FutureWarning: As the xlwt package is no longer maintained, the xlwt engine will be removed in a future version of pandas. This is the only engine in pandas that supports writing in the xls format. Install openpyxl and write to an xlsx file instead. You can set the option io.excel.xls.writer to 'xlwt' to silence this warning. While this option is deprecated and will also raise a warning, it can be globally set and the warning suppressed.\n",
            "  \"\"\"Entry point for launching an IPython kernel.\n"
          ]
        }
      ]
    },
    {
      "cell_type": "code",
      "source": [
        "!ls #檢查目錄名稱"
      ],
      "metadata": {
        "colab": {
          "base_uri": "https://localhost:8080/"
        },
        "id": "R4XSYFiP3sf6",
        "outputId": "a75c9930-68df-41bd-8970-913a19a16f41"
      },
      "execution_count": null,
      "outputs": [
        {
          "output_type": "stream",
          "name": "stdout",
          "text": [
            "all_stocks.xls\t  msft.csv\t\tstocks2.xls\n",
            "msft2.csv\t  msft_with_footer.csv\tstocks_msft.xls\n",
            "msft_A999168.csv  sample_data\t\tstocks.xlsx\n"
          ]
        }
      ]
    },
    {
      "cell_type": "code",
      "source": [
        "from pandas import ExcelWriter            #載入ExcelWriter\n",
        "with ExcelWriter(\"./all_stocks.xls\") as writer:   #all_stocks.xls檔 as 成 writer\n",
        "    aapl.to_excel(writer, sheet_name='AAPL')   \n",
        "    df.to_excel(writer, sheet_name='MSFT')"
      ],
      "metadata": {
        "colab": {
          "base_uri": "https://localhost:8080/"
        },
        "id": "4ouUd_g13PQq",
        "outputId": "cc67bcda-eb69-4bd0-8070-6c0ae8d5db18"
      },
      "execution_count": null,
      "outputs": [
        {
          "output_type": "stream",
          "name": "stderr",
          "text": [
            "/usr/local/lib/python3.7/dist-packages/IPython/core/interactiveshell.py:2822: FutureWarning: As the xlwt package is no longer maintained, the xlwt engine will be removed in a future version of pandas. This is the only engine in pandas that supports writing in the xls format. Install openpyxl and write to an xlsx file instead. You can set the option io.excel.xls.writer to 'xlwt' to silence this warning. While this option is deprecated and will also raise a warning, it can be globally set and the warning suppressed.\n",
            "  if self.run_code(code, result):\n"
          ]
        }
      ]
    },
    {
      "cell_type": "markdown",
      "source": [
        "**讀與寫JSON檔**"
      ],
      "metadata": {
        "id": "WVVQjVyv_9cR"
      }
    },
    {
      "cell_type": "code",
      "source": [
        "!wget https://raw.githubusercontent.com/PacktPublishing/Learning-Pandas-Second-Edition/master/data/stocks.json"
      ],
      "metadata": {
        "colab": {
          "base_uri": "https://localhost:8080/"
        },
        "id": "YuNuqynLAIOk",
        "outputId": "8a041482-baf2-4b02-c24c-525d575255e7"
      },
      "execution_count": null,
      "outputs": [
        {
          "output_type": "stream",
          "name": "stdout",
          "text": [
            "--2022-03-18 07:49:01--  https://raw.githubusercontent.com/PacktPublishing/Learning-Pandas-Second-Edition/master/data/stocks.json\n",
            "Resolving raw.githubusercontent.com (raw.githubusercontent.com)... 185.199.108.133, 185.199.109.133, 185.199.110.133, ...\n",
            "Connecting to raw.githubusercontent.com (raw.githubusercontent.com)|185.199.108.133|:443... connected.\n",
            "HTTP request sent, awaiting response... 200 OK\n",
            "Length: 403 [text/plain]\n",
            "Saving to: ‘stocks.json’\n",
            "\n",
            "\rstocks.json           0%[                    ]       0  --.-KB/s               \rstocks.json         100%[===================>]     403  --.-KB/s    in 0s      \n",
            "\n",
            "2022-03-18 07:49:01 (33.8 MB/s) - ‘stocks.json’ saved [403/403]\n",
            "\n"
          ]
        }
      ]
    },
    {
      "cell_type": "code",
      "source": [
        "!ls #檢查json檔有無下載成功"
      ],
      "metadata": {
        "colab": {
          "base_uri": "https://localhost:8080/"
        },
        "id": "nNkMgcosAQwq",
        "outputId": "e10fdbc5-b1cf-4ee8-a32a-72cd73b8eaf5"
      },
      "execution_count": null,
      "outputs": [
        {
          "output_type": "stream",
          "name": "stdout",
          "text": [
            "all_stocks.xls\t  msft.csv\t\tstocks2.xls\t stocks.xlsx\n",
            "msft2.csv\t  msft_with_footer.csv\tstocks.json\n",
            "msft_A999168.csv  sample_data\t\tstocks_msft.xls\n"
          ]
        }
      ]
    },
    {
      "cell_type": "code",
      "source": [
        "df[:5].to_json(\"./stocks.json\") 讀取json內容\n",
        "!cat ./stocks.json"
      ],
      "metadata": {
        "colab": {
          "base_uri": "https://localhost:8080/"
        },
        "id": "rLCHpfBBAX31",
        "outputId": "d01c9b2b-f85a-4f3a-b8f8-8a3f63b44692"
      },
      "execution_count": 75,
      "outputs": [
        {
          "output_type": "stream",
          "name": "stdout",
          "text": [
            "{\"Date\":{\"0\":1405900800000,\"1\":1405641600000,\"2\":1405555200000,\"3\":1405468800000,\"4\":1405382400000},\"Open\":{\"0\":83.46,\"1\":83.3,\"2\":84.35,\"3\":83.77,\"4\":84.3},\"High\":{\"0\":83.53,\"1\":83.4,\"2\":84.63,\"3\":84.91,\"4\":84.38},\"Low\":{\"0\":81.81,\"1\":82.52,\"2\":83.33,\"3\":83.66,\"4\":83.2},\"Close\":{\"0\":81.93,\"1\":83.35,\"2\":83.63,\"3\":84.91,\"4\":83.58},\"Volume\":{\"0\":2359300,\"1\":4020800,\"2\":1974000,\"3\":1755600,\"4\":1874700}}"
          ]
        }
      ]
    },
    {
      "cell_type": "code",
      "source": [
        "df_from_json = pd.read_json(\"./stocks.json\") 讀前五筆\n",
        "df_from_json[:5]"
      ],
      "metadata": {
        "colab": {
          "base_uri": "https://localhost:8080/",
          "height": 211
        },
        "id": "erSZeb5zBDgi",
        "outputId": "a3eb0546-6430-4dee-dba4-89828eb14486"
      },
      "execution_count": 77,
      "outputs": [
        {
          "output_type": "execute_result",
          "data": {
            "text/plain": [
              "        Date   Open   High    Low  Close   Volume\n",
              "0 2014-07-21  83.46  83.53  81.81  81.93  2359300\n",
              "1 2014-07-18  83.30  83.40  82.52  83.35  4020800\n",
              "2 2014-07-17  84.35  84.63  83.33  83.63  1974000\n",
              "3 2014-07-16  83.77  84.91  83.66  84.91  1755600\n",
              "4 2014-07-15  84.30  84.38  83.20  83.58  1874700"
            ],
            "text/html": [
              "\n",
              "  <div id=\"df-4b78b10b-48ea-4fe2-9e06-0a2160ae7a56\">\n",
              "    <div class=\"colab-df-container\">\n",
              "      None\n",
              "      <button class=\"colab-df-convert\" onclick=\"convertToInteractive('df-4b78b10b-48ea-4fe2-9e06-0a2160ae7a56')\"\n",
              "              title=\"Convert this dataframe to an interactive table.\"\n",
              "              style=\"display:none;\">\n",
              "        \n",
              "  <svg xmlns=\"http://www.w3.org/2000/svg\" height=\"24px\"viewBox=\"0 0 24 24\"\n",
              "       width=\"24px\">\n",
              "    <path d=\"M0 0h24v24H0V0z\" fill=\"none\"/>\n",
              "    <path d=\"M18.56 5.44l.94 2.06.94-2.06 2.06-.94-2.06-.94-.94-2.06-.94 2.06-2.06.94zm-11 1L8.5 8.5l.94-2.06 2.06-.94-2.06-.94L8.5 2.5l-.94 2.06-2.06.94zm10 10l.94 2.06.94-2.06 2.06-.94-2.06-.94-.94-2.06-.94 2.06-2.06.94z\"/><path d=\"M17.41 7.96l-1.37-1.37c-.4-.4-.92-.59-1.43-.59-.52 0-1.04.2-1.43.59L10.3 9.45l-7.72 7.72c-.78.78-.78 2.05 0 2.83L4 21.41c.39.39.9.59 1.41.59.51 0 1.02-.2 1.41-.59l7.78-7.78 2.81-2.81c.8-.78.8-2.07 0-2.86zM5.41 20L4 18.59l7.72-7.72 1.47 1.35L5.41 20z\"/>\n",
              "  </svg>\n",
              "      </button>\n",
              "      \n",
              "  <style>\n",
              "    .colab-df-container {\n",
              "      display:flex;\n",
              "      flex-wrap:wrap;\n",
              "      gap: 12px;\n",
              "    }\n",
              "\n",
              "    .colab-df-convert {\n",
              "      background-color: #E8F0FE;\n",
              "      border: none;\n",
              "      border-radius: 50%;\n",
              "      cursor: pointer;\n",
              "      display: none;\n",
              "      fill: #1967D2;\n",
              "      height: 32px;\n",
              "      padding: 0 0 0 0;\n",
              "      width: 32px;\n",
              "    }\n",
              "\n",
              "    .colab-df-convert:hover {\n",
              "      background-color: #E2EBFA;\n",
              "      box-shadow: 0px 1px 2px rgba(60, 64, 67, 0.3), 0px 1px 3px 1px rgba(60, 64, 67, 0.15);\n",
              "      fill: #174EA6;\n",
              "    }\n",
              "\n",
              "    [theme=dark] .colab-df-convert {\n",
              "      background-color: #3B4455;\n",
              "      fill: #D2E3FC;\n",
              "    }\n",
              "\n",
              "    [theme=dark] .colab-df-convert:hover {\n",
              "      background-color: #434B5C;\n",
              "      box-shadow: 0px 1px 3px 1px rgba(0, 0, 0, 0.15);\n",
              "      filter: drop-shadow(0px 1px 2px rgba(0, 0, 0, 0.3));\n",
              "      fill: #FFFFFF;\n",
              "    }\n",
              "  </style>\n",
              "\n",
              "      <script>\n",
              "        const buttonEl =\n",
              "          document.querySelector('#df-4b78b10b-48ea-4fe2-9e06-0a2160ae7a56 button.colab-df-convert');\n",
              "        buttonEl.style.display =\n",
              "          google.colab.kernel.accessAllowed ? 'block' : 'none';\n",
              "\n",
              "        async function convertToInteractive(key) {\n",
              "          const element = document.querySelector('#df-4b78b10b-48ea-4fe2-9e06-0a2160ae7a56');\n",
              "          const dataTable =\n",
              "            await google.colab.kernel.invokeFunction('convertToInteractive',\n",
              "                                                     [key], {});\n",
              "          if (!dataTable) return;\n",
              "\n",
              "          const docLinkHtml = 'Like what you see? Visit the ' +\n",
              "            '<a target=\"_blank\" href=https://colab.research.google.com/notebooks/data_table.ipynb>data table notebook</a>'\n",
              "            + ' to learn more about interactive tables.';\n",
              "          element.innerHTML = '';\n",
              "          dataTable['output_type'] = 'display_data';\n",
              "          await google.colab.output.renderOutput(dataTable, element);\n",
              "          const docLink = document.createElement('div');\n",
              "          docLink.innerHTML = docLinkHtml;\n",
              "          element.appendChild(docLink);\n",
              "        }\n",
              "      </script>\n",
              "    </div>\n",
              "  </div>\n",
              "  "
            ]
          },
          "metadata": {},
          "execution_count": 77
        }
      ]
    },
    {
      "cell_type": "code",
      "source": [
        "import pandas as pd\n",
        "\n",
        "bus_table = pd.read_html(\"https://www.ubus.com.tw/Booking/FareInquiry\")\n",
        "print(bus_table)"
      ],
      "metadata": {
        "colab": {
          "base_uri": "https://localhost:8080/"
        },
        "id": "hYbHr7zcDCmA",
        "outputId": "1795efaa-e1a6-4bf2-8e63-cbb17c4193d0"
      },
      "execution_count": 79,
      "outputs": [
        {
          "output_type": "stream",
          "name": "stdout",
          "text": [
            "[                國道路線                                       \n",
            "                路線名稱 全票 / 優惠全票 票價        半票票價  軍優票價    去回票價\n",
            "                路線名稱         優惠時段  原價時段  半票票價  軍優票價    去回票價\n",
            "0        【1610】台北－高雄         535元  590元  290元  560元  1,120元\n",
            "1        【1611】台北－台南         430元  480元  265元    -元    930元\n",
            "2    【1612】台北－北二高－台南         430元  480元  265元    -元    930元\n",
            "3   【1612】台北－北二高－北港路         400元  420元  220元    -元      -元\n",
            "4        【1613】台北－屏東         560元  620元  325元    -元      -元\n",
            "..               ...          ...   ...   ...   ...     ...\n",
            "55       【1663】南港－北埔         290元  320元  195元    -元      -元\n",
            "56       【1663】南港－新城         260元  290元  175元    -元      -元\n",
            "57       【1650】高雄－北港         220元  220元  110元    -元      -元\n",
            "58       【1651】高雄－北港         220元  220元  110元    -元      -元\n",
            "59      【1651】高雄－北港路         175元  175元   90元    -元      -元\n",
            "\n",
            "[60 rows x 6 columns],            短區間販售票價表                                   \n",
            "   ※下列短區間請至各自營站現場購買                                   \n",
            "               路線名稱 全票 / 優惠全票 票價        半票票價 軍優票價 去回票價\n",
            "               路線名稱         優惠時段  原價時段  半票票價 軍優票價 去回票價\n",
            "0           台北 - 南崁          55元   55元   25元   -元   -元\n",
            "1         台北 - 中壢新屋          90元   90元   45元   -元   -元\n",
            "2           台北 - 竹科         140元  140元   70元   -元   -元\n",
            "3        台北 - 中港轉運站         250元  270元  140元   -元   -元\n",
            "4        市府轉運站 - 三峽          75元   75元   35元   -元   -元\n",
            "..              ...          ...   ...   ...  ...  ...\n",
            "34       板橋 - 中港轉運站         240元  270元  140元   -元   -元\n",
            "35       中和 - 中港轉運站         240元  260元  130元   -元   -元\n",
            "36       中港轉運站 - 中和         240元  260元  130元   -元   -元\n",
            "37       中港轉運站 - 三峽         240元  260元  130元   -元   -元\n",
            "38       三峽 - 中港轉運站         240元  260元  130元   -元   -元\n",
            "\n",
            "[39 rows x 6 columns],                 國道路線                                                               \n",
            "                路線名稱 全票 / 優惠全票 票價        半票票價 Unnamed: 4_level_1 Unnamed: 5_level_1\n",
            "                路線名稱         優惠時段  原價時段  半票票價 Unnamed: 4_level_2 Unnamed: 5_level_2\n",
            "0        【1610】台北－高雄         490元  490元  240元                NaN                NaN\n",
            "1        【1611】台北－台南         410元  440元  220元                NaN                NaN\n",
            "2    【1612】台北－北二高－台南         410元  450元  220元                NaN                NaN\n",
            "3   【1612】台北－北二高－北港路         360元  360元  180元                NaN                NaN\n",
            "4        【1613】台北－屏東         550元  560元  280元                NaN                NaN\n",
            "..               ...          ...   ...   ...                ...                ...\n",
            "56  【1662】經國轉運站-松山機場          51元   51元   26元                NaN                NaN\n",
            "57       【1650】高雄－北港         220元  220元  110元                NaN                NaN\n",
            "58       【1651】高雄－北港         220元  220元  110元                NaN                NaN\n",
            "59       【1651】高雄－麻豆         115元  115元   55元                NaN                NaN\n",
            "60       【1660】板橋－高雄         490元  500元  250元                NaN                NaN\n",
            "\n",
            "[61 rows x 6 columns],            短區間販售票價表                                                               \n",
            "   ※下列短區間請至各自營站現場購買                                                               \n",
            "               路線名稱 全票 / 優惠全票 票價        半票票價 Unnamed: 4_level_2 Unnamed: 5_level_2\n",
            "               路線名稱         優惠時段  原價時段  半票票價 Unnamed: 4_level_3 Unnamed: 5_level_3\n",
            "0           台北 - 南崁          40元   40元   20元                NaN                NaN\n",
            "1         台北 - 中壢新屋          75元   75元   35元                NaN                NaN\n",
            "2           台北 - 竹科         110元  110元   50元                NaN                NaN\n",
            "3        台北 - 中港轉運站         230元  240元  120元                NaN                NaN\n",
            "4        市府轉運站 - 三峽          60元   60元   30元                NaN                NaN\n",
            "..              ...          ...   ...   ...                ...                ...\n",
            "38       板橋 - 中港轉運站         220元  235元  115元                NaN                NaN\n",
            "39       中和 - 中港轉運站         210元  220元  110元                NaN                NaN\n",
            "40       中港轉運站 - 中和         210元  220元  110元                NaN                NaN\n",
            "41       中港轉運站 - 三峽         220元  220元  110元                NaN                NaN\n",
            "42       三峽 - 中港轉運站         220元  220元  110元                NaN                NaN\n",
            "\n",
            "[43 rows x 6 columns],           轉乘桃園機場票價表                            \n",
            "   ※下列短區間請至各自營站現場購買                            \n",
            "                 區間            全票            半票\n",
            "0        桃園機場 - 三條崙  395+45=440 元  190+20=210 元\n",
            "1         桃園機場 - 台北   70+45=115 元    35+20=55 元\n",
            "2         桃園機場 - 台南  405+45=450 元  190+20=210 元\n",
            "3      桃園機場 - 員林.西港  275+45=320 元  130+20=150 元\n",
            "4         桃園機場 - 嘉義  375+45=420 元  180+20=200 元\n",
            "..              ...           ...           ...\n",
            "6         桃園機場 - 彰化  265+45=310 元  120+20=140 元\n",
            "7      桃園機場 - 竹山.南投  275+45=320 元  130+20=150 元\n",
            "8      桃園機場 - 西螺.虎尾  335+45=380 元  160+20=180 元\n",
            "9      桃園機場 - 豐原.東勢  215+45=260 元  110+20=130 元\n",
            "10        桃園機場 - 高雄  515+45=560 元  250+20=270 元\n",
            "\n",
            "[11 rows x 3 columns]]\n"
          ]
        }
      ]
    },
    {
      "cell_type": "code",
      "source": [
        "print(\"型態：\", type(bus_table))\n",
        "print(\"長度：\", len(bus_table))"
      ],
      "metadata": {
        "colab": {
          "base_uri": "https://localhost:8080/"
        },
        "id": "bsUtNRrFDPdw",
        "outputId": "8f73e08b-364f-4d0d-f105-992b37d93b42"
      },
      "execution_count": 80,
      "outputs": [
        {
          "output_type": "stream",
          "name": "stdout",
          "text": [
            "型態： <class 'list'>\n",
            "長度： 5\n"
          ]
        }
      ]
    },
    {
      "cell_type": "code",
      "source": [
        "bus_df = bus_table[0]  #讀取第一個表格\n",
        "print(bus_df)"
      ],
      "metadata": {
        "colab": {
          "base_uri": "https://localhost:8080/"
        },
        "id": "aijcC6q7DYvg",
        "outputId": "2ccd0e7d-8a75-400c-8564-c3f20686f3f3"
      },
      "execution_count": 81,
      "outputs": [
        {
          "output_type": "stream",
          "name": "stdout",
          "text": [
            "                國道路線                                       \n",
            "                路線名稱 全票 / 優惠全票 票價        半票票價  軍優票價    去回票價\n",
            "                路線名稱         優惠時段  原價時段  半票票價  軍優票價    去回票價\n",
            "0        【1610】台北－高雄         535元  590元  290元  560元  1,120元\n",
            "1        【1611】台北－台南         430元  480元  265元    -元    930元\n",
            "2    【1612】台北－北二高－台南         430元  480元  265元    -元    930元\n",
            "3   【1612】台北－北二高－北港路         400元  420元  220元    -元      -元\n",
            "4        【1613】台北－屏東         560元  620元  325元    -元      -元\n",
            "..               ...          ...   ...   ...   ...     ...\n",
            "55       【1663】南港－北埔         290元  320元  195元    -元      -元\n",
            "56       【1663】南港－新城         260元  290元  175元    -元      -元\n",
            "57       【1650】高雄－北港         220元  220元  110元    -元      -元\n",
            "58       【1651】高雄－北港         220元  220元  110元    -元      -元\n",
            "59      【1651】高雄－北港路         175元  175元   90元    -元      -元\n",
            "\n",
            "[60 rows x 6 columns]\n"
          ]
        }
      ]
    }
  ]
}